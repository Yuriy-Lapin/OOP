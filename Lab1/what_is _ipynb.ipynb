{
 "cells": [
  {
   "cell_type": "code",
   "execution_count": 28,
   "metadata": {},
   "outputs": [
    {
     "name": "stdout",
     "output_type": "stream",
     "text": [
      "Yuriy start programming at 2022-08-31 15:39:23.937554\n"
     ]
    }
   ],
   "source": [
    "from datetime import datetime\n",
    "\n",
    "name = 'Yuriy'\n",
    "\n",
    "print(str(name) + ' start programming at ' + str(datetime.now()))"
   ]
  },
  {
   "cell_type": "markdown",
   "metadata": {},
   "source": [
    "Програмка виводить час та дату запуску програмки, а ще якийсь не цікавий текст зліва від часу "
   ]
  }
 ],
 "metadata": {
  "kernelspec": {
   "display_name": "Python 3.10.6 64-bit",
   "language": "python",
   "name": "python3"
  },
  "language_info": {
   "codemirror_mode": {
    "name": "ipython",
    "version": 3
   },
   "file_extension": ".py",
   "mimetype": "text/x-python",
   "name": "python",
   "nbconvert_exporter": "python",
   "pygments_lexer": "ipython3",
   "version": "3.10.6"
  },
  "orig_nbformat": 4,
  "vscode": {
   "interpreter": {
    "hash": "3d8d12bb471a3bab71fd0ae8a656e42d43dc95bc51dfc1612081fb4b4ea918e2"
   }
  }
 },
 "nbformat": 4,
 "nbformat_minor": 2
}
