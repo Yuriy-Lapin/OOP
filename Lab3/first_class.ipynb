{
 "cells": [
  {
   "cell_type": "markdown",
   "metadata": {},
   "source": [
    "## Удав 0.3.11"
   ]
  },
  {
   "cell_type": "code",
   "execution_count": 11,
   "metadata": {},
   "outputs": [
    {
     "name": "stdout",
     "output_type": "stream",
     "text": [
      "Папероні\n"
     ]
    }
   ],
   "source": [
    "class Піца:\n",
    "    def __init__(селф, імя):\n",
    "        селф.імя = імя\n",
    "    \n",
    "    def імя_піци(селф):\n",
    "        return селф.імя\n",
    "\n",
    "піца1 = Піца('Папероні')\n",
    "\n",
    "def друкуй(arg):\n",
    "    print(arg)\n",
    "\n",
    "\n",
    "друкуй(піца1.імя_піци())\n"
   ]
  },
  {
   "cell_type": "code",
   "execution_count": 17,
   "metadata": {},
   "outputs": [
    {
     "name": "stdout",
     "output_type": "stream",
     "text": [
      "4\n",
      "1\n",
      "2\n",
      "4\n"
     ]
    }
   ],
   "source": [
    "\n",
    "class MyName:\n",
    "    \"\"\"Зараз ми попробуємо дізнатись звідки береться 5-е ім'я\n",
    "    \"\"\"\n",
    "    total_names = 0  # Class Variable\n",
    "\n",
    "    def __init__(self, name=None) -> None:\n",
    "        # Class attributes / Instance variables\n",
    "        self.name = name if name is not None else self.anonymous_user().name\n",
    "        MyName.total_names += 1  # modify class variable\n",
    "        self.my_id = self.total_names\n",
    "\n",
    "    \n",
    "    @classmethod\n",
    "    def anonymous_user(cls):\n",
    "        \"\"\"Classs method\n",
    "        \"\"\"\n",
    "        return cls(\"Anonymous\")\n",
    "\n",
    "\n",
    "\n",
    "n1 = MyName('name1')\n",
    "n2 = MyName('name2')\n",
    "n3 = MyName(None)\n",
    "\n",
    "print(MyName.total_names)\n",
    "\n",
    "print(n1.my_id)\n",
    "print(n2.my_id)\n",
    "print(n3.my_id)\n"
   ]
  }
 ],
 "metadata": {
  "kernelspec": {
   "display_name": "Python 3.10.6 64-bit",
   "language": "python",
   "name": "python3"
  },
  "language_info": {
   "codemirror_mode": {
    "name": "ipython",
    "version": 3
   },
   "file_extension": ".py",
   "mimetype": "text/x-python",
   "name": "python",
   "nbconvert_exporter": "python",
   "pygments_lexer": "ipython3",
   "version": "3.10.6"
  },
  "orig_nbformat": 4,
  "vscode": {
   "interpreter": {
    "hash": "3d8d12bb471a3bab71fd0ae8a656e42d43dc95bc51dfc1612081fb4b4ea918e2"
   }
  }
 },
 "nbformat": 4,
 "nbformat_minor": 2
}
