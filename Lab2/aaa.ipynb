{
 "cells": [
  {
   "cell_type": "code",
   "execution_count": 28,
   "metadata": {},
   "outputs": [
    {
     "name": "stdout",
     "output_type": "stream",
     "text": [
      " це рядок \t->\t text\n",
      " це ціле число \t->\t 1\n",
      " це список \t->\t ['a', 1, 1.25, 'Слово']\n",
      " це словник \t->\t {'a': 'Слово', 'b': 1}\n",
      " це сет \t->\t ('a', 'c', 'b')\n"
     ]
    }
   ],
   "source": [
    "String = 'text'\n",
    "Integer = 1\n",
    "List = ['a', 1, 1.25, 'Слово']\n",
    "Dict = {'a': 'Слово', 'b': 1}\n",
    "Set = ('a', 'c', 'b',)\n",
    "\n",
    "print(f' це рядок \\t->\\t {String}')\n",
    "print(f' це ціле число \\t->\\t {Integer}')\n",
    "print(f' це список \\t->\\t {List}')\n",
    "print(f' це словник \\t->\\t {Dict}')\n",
    "print(f' це сет \\t->\\t {Set}')\n"
   ]
  },
  {
   "cell_type": "code",
   "execution_count": null,
   "metadata": {},
   "outputs": [],
   "source": []
  },
  {
   "cell_type": "code",
   "execution_count": 29,
   "metadata": {},
   "outputs": [
    {
     "name": "stdout",
     "output_type": "stream",
     "text": [
      "True\n",
      "False\n",
      "None\n",
      "NotImplemented\n"
     ]
    }
   ],
   "source": [
    "print(True)\n",
    "print(False)\n",
    "print(None)\n",
    "print(NotImplemented)\n"
   ]
  },
  {
   "cell_type": "code",
   "execution_count": 30,
   "metadata": {},
   "outputs": [
    {
     "name": "stdout",
     "output_type": "stream",
     "text": [
      "b\"print('testing encrypted code')\"\n",
      "testing encrypted code\n",
      "-2974910610774903325\n",
      "<zip object at 0x000001A3FF1F2740>\n",
      "(1, 'ван')\n",
      "(2, 'ту')\n",
      "(3, 'срі')\n"
     ]
    }
   ],
   "source": [
    "# print(globals())\n",
    "\n",
    "import base64\n",
    "print(base64.b64decode('cHJpbnQoJ3Rlc3RpbmcgZW5jcnlwdGVkIGNvZGUnKQ=='))\n",
    "exec(base64.b64decode('cHJpbnQoJ3Rlc3RpbmcgZW5jcnlwdGVkIGNvZGUnKQ=='))\n",
    "\n",
    "print(hash('LOL'))\n",
    "\n",
    "dict1 = [1, 2, 3]\n",
    "dict2 = ['ван', 'ту', 'срі']\n",
    "print(zip(dict1, dict2))\n",
    "for item in zip(dict1, dict2):\n",
    "    print(item)\n"
   ]
  },
  {
   "cell_type": "code",
   "execution_count": 31,
   "metadata": {},
   "outputs": [
    {
     "name": "stdout",
     "output_type": "stream",
     "text": [
      "1000 - 7 = 993\n",
      "993 - 7 = 986\n",
      "986 - 7 = 979\n",
      "979 - 7 = 972\n",
      "972 - 7 = 965\n",
      "965 - 7 = 958\n",
      "958 - 7 = 951\n",
      "951 - 7 = 944\n",
      "944 - 7 = 937\n",
      "937 - 7 = 930\n",
      "930 - 7 = 923\n",
      "923 - 7 = 916\n",
      "916 - 7 = 909\n",
      "909 - 7 = 902\n",
      "902 - 7 = 895\n",
      "895 - 7 = 888\n",
      "888 - 7 = 881\n",
      "881 - 7 = 874\n",
      "874 - 7 = 867\n",
      "867 - 7 = 860\n",
      "860 - 7 = 853\n",
      "853 - 7 = 846\n",
      "846 - 7 = 839\n",
      "839 - 7 = 832\n",
      "832 - 7 = 825\n",
      "825 - 7 = 818\n",
      "818 - 7 = 811\n",
      "811 - 7 = 804\n",
      "804 - 7 = 797\n",
      "797 - 7 = 790\n",
      "790 - 7 = 783\n",
      "783 - 7 = 776\n",
      "776 - 7 = 769\n",
      "769 - 7 = 762\n",
      "762 - 7 = 755\n",
      "755 - 7 = 748\n",
      "748 - 7 = 741\n",
      "741 - 7 = 734\n",
      "734 - 7 = 727\n",
      "727 - 7 = 720\n",
      "720 - 7 = 713\n",
      "713 - 7 = 706\n",
      "706 - 7 = 699\n",
      "699 - 7 = 692\n",
      "692 - 7 = 685\n",
      "685 - 7 = 678\n",
      "678 - 7 = 671\n",
      "671 - 7 = 664\n",
      "664 - 7 = 657\n",
      "657 - 7 = 650\n",
      "650 - 7 = 643\n",
      "643 - 7 = 636\n",
      "636 - 7 = 629\n",
      "629 - 7 = 622\n",
      "622 - 7 = 615\n",
      "615 - 7 = 608\n",
      "608 - 7 = 601\n",
      "601 - 7 = 594\n",
      "594 - 7 = 587\n",
      "587 - 7 = 580\n",
      "580 - 7 = 573\n",
      "573 - 7 = 566\n",
      "566 - 7 = 559\n",
      "559 - 7 = 552\n",
      "552 - 7 = 545\n",
      "545 - 7 = 538\n",
      "538 - 7 = 531\n",
      "531 - 7 = 524\n",
      "524 - 7 = 517\n",
      "517 - 7 = 510\n",
      "510 - 7 = 503\n",
      "503 - 7 = 496\n",
      "496 - 7 = 489\n",
      "489 - 7 = 482\n",
      "482 - 7 = 475\n",
      "475 - 7 = 468\n",
      "468 - 7 = 461\n",
      "461 - 7 = 454\n",
      "454 - 7 = 447\n",
      "447 - 7 = 440\n",
      "440 - 7 = 433\n",
      "433 - 7 = 426\n",
      "426 - 7 = 419\n",
      "419 - 7 = 412\n",
      "412 - 7 = 405\n",
      "405 - 7 = 398\n",
      "398 - 7 = 391\n",
      "391 - 7 = 384\n",
      "384 - 7 = 377\n",
      "377 - 7 = 370\n",
      "370 - 7 = 363\n",
      "363 - 7 = 356\n",
      "356 - 7 = 349\n",
      "349 - 7 = 342\n",
      "342 - 7 = 335\n",
      "335 - 7 = 328\n",
      "328 - 7 = 321\n",
      "321 - 7 = 314\n",
      "314 - 7 = 307\n",
      "307 - 7 = 300\n",
      "300 - 7 = 293\n",
      "293 - 7 = 286\n",
      "286 - 7 = 279\n",
      "279 - 7 = 272\n",
      "272 - 7 = 265\n",
      "265 - 7 = 258\n",
      "258 - 7 = 251\n",
      "251 - 7 = 244\n",
      "244 - 7 = 237\n",
      "237 - 7 = 230\n",
      "230 - 7 = 223\n",
      "223 - 7 = 216\n",
      "216 - 7 = 209\n",
      "209 - 7 = 202\n",
      "202 - 7 = 195\n",
      "195 - 7 = 188\n",
      "188 - 7 = 181\n",
      "181 - 7 = 174\n",
      "174 - 7 = 167\n",
      "167 - 7 = 160\n",
      "160 - 7 = 153\n",
      "153 - 7 = 146\n",
      "146 - 7 = 139\n",
      "139 - 7 = 132\n",
      "132 - 7 = 125\n",
      "125 - 7 = 118\n",
      "118 - 7 = 111\n",
      "111 - 7 = 104\n",
      "104 - 7 = 97\n",
      "97 - 7 = 90\n",
      "90 - 7 = 83\n",
      "83 - 7 = 76\n",
      "76 - 7 = 69\n",
      "69 - 7 = 62\n",
      "62 - 7 = 55\n",
      "55 - 7 = 48\n",
      "48 - 7 = 41\n",
      "41 - 7 = 34\n",
      "34 - 7 = 27\n",
      "27 - 7 = 20\n",
      "20 - 7 = 13\n",
      "13 - 7 = 6\n",
      "6 - 7 = -1\n"
     ]
    }
   ],
   "source": [
    "# 1000 - 7\n",
    "\n",
    "num = 1000\n",
    "while num > 0:\n",
    "    print(f'{num} - 7 = {num-7}')\n",
    "    num-=7"
   ]
  },
  {
   "cell_type": "code",
   "execution_count": 32,
   "metadata": {},
   "outputs": [
    {
     "name": "stdout",
     "output_type": "stream",
     "text": [
      "Значить А=True\n",
      "ви вибрали test\n"
     ]
    }
   ],
   "source": [
    "A = True\n",
    "print(\"Значить А=True\" if A else \"Значить А=False \")\n",
    "\n",
    "choise = input(\">>> \")\n",
    "match choise:\n",
    "    case '1':\n",
    "        print('ви вибрали 1')\n",
    "\n",
    "    case 'test':\n",
    "        print('ви вибрали test')\n",
    "\n",
    "    case _:\n",
    "        print('ви нічого не вибрали')\n",
    "\n"
   ]
  },
  {
   "cell_type": "code",
   "execution_count": 33,
   "metadata": {},
   "outputs": [
    {
     "name": "stdout",
     "output_type": "stream",
     "text": [
      "Це тру - False\n",
      "Це фолс - True\n",
      "нема еррора\n"
     ]
    }
   ],
   "source": [
    "\n",
    "try:\n",
    "    def true():\n",
    "        return False\n",
    "    def false():\n",
    "        return True\n",
    "\n",
    "    print(f'Це тру - {true()}')\n",
    "    print(f'Це фолс - {false()}')\n",
    "\n",
    "except:\n",
    "    print('еррор')\n",
    "finally:\n",
    "    print('нема еррора')"
   ]
  },
  {
   "cell_type": "code",
   "execution_count": 36,
   "metadata": {},
   "outputs": [
    {
     "name": "stdout",
     "output_type": "stream",
     "text": [
      "test line 1\n",
      "\n",
      "test line 2\n",
      "\n",
      "line 3\n",
      "\n"
     ]
    }
   ],
   "source": [
    "with open(\"TEST.md\", \"r\") as f:\n",
    "    for line in f:\n",
    "        print(line)\n"
   ]
  },
  {
   "cell_type": "code",
   "execution_count": 37,
   "metadata": {},
   "outputs": [
    {
     "name": "stdout",
     "output_type": "stream",
     "text": [
      "Це просто функція: <function <lambda> at 0x000001A381135000>\n",
      "квадратний корінь числа 25 = 5.0\n"
     ]
    }
   ],
   "source": [
    "sqrt = lambda x: x**0.5\n",
    "\n",
    "print(\"Це просто функція:\", sqrt)\n",
    "print(f'квадратний корінь числа 25 = {sqrt(25)}')"
   ]
  }
 ],
 "metadata": {
  "kernelspec": {
   "display_name": "Python 3.10.6 64-bit",
   "language": "python",
   "name": "python3"
  },
  "language_info": {
   "codemirror_mode": {
    "name": "ipython",
    "version": 3
   },
   "file_extension": ".py",
   "mimetype": "text/x-python",
   "name": "python",
   "nbconvert_exporter": "python",
   "pygments_lexer": "ipython3",
   "version": "3.10.6"
  },
  "orig_nbformat": 4,
  "vscode": {
   "interpreter": {
    "hash": "3d8d12bb471a3bab71fd0ae8a656e42d43dc95bc51dfc1612081fb4b4ea918e2"
   }
  }
 },
 "nbformat": 4,
 "nbformat_minor": 2
}
